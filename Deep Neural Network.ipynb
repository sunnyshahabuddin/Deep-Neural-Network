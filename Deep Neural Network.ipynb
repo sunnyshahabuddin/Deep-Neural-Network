{
 "cells": [
  {
   "cell_type": "code",
   "execution_count": 21,
   "id": "ad6afe09-31b7-4b9e-90d6-72a337d8f3e9",
   "metadata": {},
   "outputs": [],
   "source": [
    "import numpy as np\n",
    "import matplotlib.pyplot as plt\n",
    "from sklearn import datasets\n",
    "import keras\n",
    "from keras.models import Sequential\n",
    "from keras.layers import Dense\n",
    "from tensorflow.keras.optimizers import Adam"
   ]
  },
  {
   "cell_type": "code",
   "execution_count": 22,
   "id": "45118c85-eb2f-4d19-bb8e-29225d4cb3fa",
   "metadata": {},
   "outputs": [],
   "source": [
    "np.random.seed(0)\n"
   ]
  },
  {
   "cell_type": "code",
   "execution_count": 23,
   "id": "044a8b82-95f8-4344-b81a-6201783eae87",
   "metadata": {},
   "outputs": [],
   "source": [
    "n_pts = 500\n",
    "X, Y = datasets.make_circles(n_samples=n_pts, random_state = 123, noise=0.1, factor=0.2)"
   ]
  },
  {
   "cell_type": "code",
   "execution_count": 24,
   "id": "48cb01c7-e0b1-46dd-8afb-e88df98c7e79",
   "metadata": {},
   "outputs": [
    {
     "data": {
      "text/plain": [
       "<matplotlib.collections.PathCollection at 0x196a7968400>"
      ]
     },
     "execution_count": 24,
     "metadata": {},
     "output_type": "execute_result"
    },
    {
     "data": {
      "image/png": "[encoded data removed]",
      "text/plain": [
       "<Figure size 432x288 with 1 Axes>"
      ]
     },
     "metadata": {
      "needs_background": "light"
     },
     "output_type": "display_data"
    }
   ],
   "source": [
    "plt.scatter(X[y==0, 0], X[y==0, 1])\n",
    "plt.scatter(X[y==1, 0], X[y==1, 1])"
   ]
  },
  {
   "cell_type": "code",
   "execution_count": 25,
   "id": "48b91573-ca43-49c4-829d-4e2cb1f13107",
   "metadata": {},
   "outputs": [],
   "source": [
    "model = Sequential()\n",
    "model.add(Dense(4, input_shape=(2,), activation='sigmoid'))\n",
    "model.add(Dense(1, activation='sigmoid'))\n",
    "model.compile(Adam(lr = 0.01), 'binary_crossentropy', metrics=['accuracy'])"
   ]
  },
  {
   "cell_type": "code",
   "execution_count": 26,
   "id": "132930ea-b662-4744-8902-9b945a9df74c",
   "metadata": {},
   "outputs": [
    {
     "name": "stdout",
     "output_type": "stream",
     "text": [
      "Epoch 1/100\n",
      "25/25 [==============================] - 0s 922us/step - loss: 0.6979 - accuracy: 0.5240\n",
      "Epoch 2/100\n",
      "25/25 [==============================] - 0s 847us/step - loss: 0.6945 - accuracy: 0.5140\n",
      "Epoch 3/100\n",
      "25/25 [==============================] - 0s 832us/step - loss: 0.6937 - accuracy: 0.6560\n",
      "Epoch 4/100\n",
      "25/25 [==============================] - 0s 873us/step - loss: 0.6913 - accuracy: 0.6280\n",
      "Epoch 5/100\n",
      "25/25 [==============================] - 0s 855us/step - loss: 0.6905 - accuracy: 0.4100\n",
      "Epoch 6/100\n",
      "25/25 [==============================] - 0s 751us/step - loss: 0.6885 - accuracy: 0.5480\n",
      "Epoch 7/100\n",
      "25/25 [==============================] - 0s 756us/step - loss: 0.6865 - accuracy: 0.6500\n",
      "Epoch 8/100\n",
      "25/25 [==============================] - 0s 751us/step - loss: 0.6842 - accuracy: 0.6320\n",
      "Epoch 9/100\n",
      "25/25 [==============================] - 0s 743us/step - loss: 0.6812 - accuracy: 0.6220\n",
      "Epoch 10/100\n",
      "25/25 [==============================] - 0s 766us/step - loss: 0.6776 - accuracy: 0.7760\n",
      "Epoch 11/100\n",
      "25/25 [==============================] - 0s 752us/step - loss: 0.6746 - accuracy: 0.5940\n",
      "Epoch 12/100\n",
      "25/25 [==============================] - 0s 758us/step - loss: 0.6695 - accuracy: 0.6700\n",
      "Epoch 13/100\n",
      "25/25 [==============================] - 0s 734us/step - loss: 0.6619 - accuracy: 0.7800\n",
      "Epoch 14/100\n",
      "25/25 [==============================] - 0s 747us/step - loss: 0.6555 - accuracy: 0.8060\n",
      "Epoch 15/100\n",
      "25/25 [==============================] - 0s 1ms/step - loss: 0.6477 - accuracy: 0.7780\n",
      "Epoch 16/100\n",
      "25/25 [==============================] - 0s 764us/step - loss: 0.6397 - accuracy: 0.8380\n",
      "Epoch 17/100\n",
      "25/25 [==============================] - 0s 924us/step - loss: 0.6304 - accuracy: 0.8360\n",
      "Epoch 18/100\n",
      "25/25 [==============================] - 0s 790us/step - loss: 0.6208 - accuracy: 0.8260\n",
      "Epoch 19/100\n",
      "25/25 [==============================] - 0s 765us/step - loss: 0.6101 - accuracy: 0.8520\n",
      "Epoch 20/100\n",
      "25/25 [==============================] - 0s 724us/step - loss: 0.5974 - accuracy: 0.8460\n",
      "Epoch 21/100\n",
      "25/25 [==============================] - 0s 830us/step - loss: 0.5848 - accuracy: 0.8380\n",
      "Epoch 22/100\n",
      "25/25 [==============================] - 0s 736us/step - loss: 0.5706 - accuracy: 0.8660\n",
      "Epoch 23/100\n",
      "25/25 [==============================] - 0s 847us/step - loss: 0.5549 - accuracy: 0.8680\n",
      "Epoch 24/100\n",
      "25/25 [==============================] - 0s 771us/step - loss: 0.5377 - accuracy: 0.8600\n",
      "Epoch 25/100\n",
      "25/25 [==============================] - 0s 737us/step - loss: 0.5199 - accuracy: 0.8800\n",
      "Epoch 26/100\n",
      "25/25 [==============================] - 0s 746us/step - loss: 0.5015 - accuracy: 0.8820\n",
      "Epoch 27/100\n",
      "25/25 [==============================] - 0s 703us/step - loss: 0.4819 - accuracy: 0.9000\n",
      "Epoch 28/100\n",
      "25/25 [==============================] - 0s 804us/step - loss: 0.4608 - accuracy: 0.9200\n",
      "Epoch 29/100\n",
      "25/25 [==============================] - 0s 781us/step - loss: 0.4399 - accuracy: 0.9260\n",
      "Epoch 30/100\n",
      "25/25 [==============================] - 0s 714us/step - loss: 0.4170 - accuracy: 0.9700\n",
      "Epoch 31/100\n",
      "25/25 [==============================] - 0s 783us/step - loss: 0.3954 - accuracy: 0.9780\n",
      "Epoch 32/100\n",
      "25/25 [==============================] - 0s 763us/step - loss: 0.3729 - accuracy: 0.9900\n",
      "Epoch 33/100\n",
      "25/25 [==============================] - 0s 761us/step - loss: 0.3517 - accuracy: 0.9940\n",
      "Epoch 34/100\n",
      "25/25 [==============================] - 0s 742us/step - loss: 0.3310 - accuracy: 0.9980\n",
      "Epoch 35/100\n",
      "25/25 [==============================] - 0s 763us/step - loss: 0.3119 - accuracy: 0.9980\n",
      "Epoch 36/100\n",
      "25/25 [==============================] - 0s 725us/step - loss: 0.2938 - accuracy: 0.9960\n",
      "Epoch 37/100\n",
      "25/25 [==============================] - 0s 892us/step - loss: 0.2776 - accuracy: 0.9960\n",
      "Epoch 38/100\n",
      "25/25 [==============================] - 0s 790us/step - loss: 0.2619 - accuracy: 0.9960\n",
      "Epoch 39/100\n",
      "25/25 [==============================] - 0s 791us/step - loss: 0.2478 - accuracy: 0.9980\n",
      "Epoch 40/100\n",
      "25/25 [==============================] - 0s 873us/step - loss: 0.2352 - accuracy: 0.9980\n",
      "Epoch 41/100\n",
      "25/25 [==============================] - 0s 852us/step - loss: 0.2232 - accuracy: 0.9980\n",
      "Epoch 42/100\n",
      "25/25 [==============================] - 0s 858us/step - loss: 0.2121 - accuracy: 0.9980\n",
      "Epoch 43/100\n",
      "25/25 [==============================] - 0s 873us/step - loss: 0.2020 - accuracy: 0.9980\n",
      "Epoch 44/100\n",
      "25/25 [==============================] - 0s 833us/step - loss: 0.1927 - accuracy: 0.9980\n",
      "Epoch 45/100\n",
      "25/25 [==============================] - 0s 915us/step - loss: 0.1840 - accuracy: 0.9980\n",
      "Epoch 46/100\n",
      "25/25 [==============================] - 0s 849us/step - loss: 0.1763 - accuracy: 0.9980\n",
      "Epoch 47/100\n",
      "25/25 [==============================] - 0s 906us/step - loss: 0.1686 - accuracy: 0.9980\n",
      "Epoch 48/100\n",
      "25/25 [==============================] - 0s 873us/step - loss: 0.1618 - accuracy: 0.9980\n",
      "Epoch 49/100\n",
      "25/25 [==============================] - 0s 908us/step - loss: 0.1553 - accuracy: 0.9980\n",
      "Epoch 50/100\n",
      "25/25 [==============================] - 0s 878us/step - loss: 0.1494 - accuracy: 0.9980\n",
      "Epoch 51/100\n",
      "25/25 [==============================] - 0s 998us/step - loss: 0.1436 - accuracy: 0.9980\n",
      "Epoch 52/100\n",
      "25/25 [==============================] - 0s 913us/step - loss: 0.1381 - accuracy: 0.9980\n",
      "Epoch 53/100\n",
      "25/25 [==============================] - 0s 914us/step - loss: 0.1332 - accuracy: 0.9980\n",
      "Epoch 54/100\n",
      "25/25 [==============================] - 0s 828us/step - loss: 0.1285 - accuracy: 0.9980\n",
      "Epoch 55/100\n",
      "25/25 [==============================] - 0s 873us/step - loss: 0.1239 - accuracy: 0.9980\n",
      "Epoch 56/100\n",
      "25/25 [==============================] - 0s 956us/step - loss: 0.1197 - accuracy: 0.9980\n",
      "Epoch 57/100\n",
      "25/25 [==============================] - 0s 956us/step - loss: 0.1156 - accuracy: 0.9980\n",
      "Epoch 58/100\n",
      "25/25 [==============================] - 0s 1ms/step - loss: 0.1118 - accuracy: 0.9980\n",
      "Epoch 59/100\n",
      "25/25 [==============================] - 0s 1ms/step - loss: 0.1082 - accuracy: 0.9980\n",
      "Epoch 60/100\n",
      "25/25 [==============================] - 0s 1ms/step - loss: 0.1047 - accuracy: 0.9980\n",
      "Epoch 61/100\n",
      "25/25 [==============================] - 0s 997us/step - loss: 0.1016 - accuracy: 0.9980\n",
      "Epoch 62/100\n",
      "25/25 [==============================] - 0s 997us/step - loss: 0.0984 - accuracy: 0.9980\n",
      "Epoch 63/100\n",
      "25/25 [==============================] - 0s 1ms/step - loss: 0.0953 - accuracy: 0.9980\n",
      "Epoch 64/100\n",
      "25/25 [==============================] - 0s 956us/step - loss: 0.0924 - accuracy: 0.9980\n",
      "Epoch 65/100\n",
      "25/25 [==============================] - 0s 873us/step - loss: 0.0897 - accuracy: 0.9980\n",
      "Epoch 66/100\n",
      "25/25 [==============================] - 0s 990us/step - loss: 0.0871 - accuracy: 0.9980\n",
      "Epoch 67/100\n",
      "25/25 [==============================] - 0s 832us/step - loss: 0.0846 - accuracy: 0.9980\n",
      "Epoch 68/100\n",
      "25/25 [==============================] - 0s 915us/step - loss: 0.0821 - accuracy: 0.9980\n",
      "Epoch 69/100\n",
      "25/25 [==============================] - 0s 957us/step - loss: 0.0799 - accuracy: 0.9980\n",
      "Epoch 70/100\n",
      "25/25 [==============================] - 0s 872us/step - loss: 0.0776 - accuracy: 0.9980\n",
      "Epoch 71/100\n",
      "25/25 [==============================] - 0s 914us/step - loss: 0.0757 - accuracy: 0.9980\n",
      "Epoch 72/100\n",
      "25/25 [==============================] - 0s 914us/step - loss: 0.0734 - accuracy: 0.9980\n",
      "Epoch 73/100\n",
      "25/25 [==============================] - 0s 956us/step - loss: 0.0715 - accuracy: 0.9980\n",
      "Epoch 74/100\n",
      "25/25 [==============================] - 0s 1ms/step - loss: 0.0697 - accuracy: 0.9980\n",
      "Epoch 75/100\n",
      "25/25 [==============================] - 0s 997us/step - loss: 0.0678 - accuracy: 0.9980\n",
      "Epoch 76/100\n",
      "25/25 [==============================] - 0s 1ms/step - loss: 0.0661 - accuracy: 0.9980\n",
      "Epoch 77/100\n",
      "25/25 [==============================] - 0s 1ms/step - loss: 0.0645 - accuracy: 0.9980\n",
      "Epoch 78/100\n",
      "25/25 [==============================] - 0s 1ms/step - loss: 0.0628 - accuracy: 0.9980\n",
      "Epoch 79/100\n",
      "25/25 [==============================] - 0s 1ms/step - loss: 0.0612 - accuracy: 0.9980\n",
      "Epoch 80/100\n",
      "25/25 [==============================] - 0s 959us/step - loss: 0.0598 - accuracy: 0.9980\n",
      "Epoch 81/100\n",
      "25/25 [==============================] - 0s 998us/step - loss: 0.0583 - accuracy: 0.9980\n",
      "Epoch 82/100\n",
      "25/25 [==============================] - 0s 956us/step - loss: 0.0568 - accuracy: 0.9980\n",
      "Epoch 83/100\n",
      "25/25 [==============================] - 0s 831us/step - loss: 0.0556 - accuracy: 0.9980\n",
      "Epoch 84/100\n",
      "25/25 [==============================] - 0s 997us/step - loss: 0.0542 - accuracy: 0.9980\n",
      "Epoch 85/100\n",
      "25/25 [==============================] - 0s 1ms/step - loss: 0.0529 - accuracy: 0.9980\n",
      "Epoch 86/100\n",
      "25/25 [==============================] - 0s 916us/step - loss: 0.0518 - accuracy: 0.9980\n",
      "Epoch 87/100\n",
      "25/25 [==============================] - 0s 997us/step - loss: 0.0505 - accuracy: 0.9980\n",
      "Epoch 88/100\n",
      "25/25 [==============================] - 0s 1ms/step - loss: 0.0494 - accuracy: 0.9980\n",
      "Epoch 89/100\n",
      "25/25 [==============================] - 0s 997us/step - loss: 0.0482 - accuracy: 0.9980\n",
      "Epoch 90/100\n",
      "25/25 [==============================] - 0s 1ms/step - loss: 0.0472 - accuracy: 0.9980\n",
      "Epoch 91/100\n",
      "25/25 [==============================] - 0s 997us/step - loss: 0.0463 - accuracy: 0.9980\n",
      "Epoch 92/100\n",
      "25/25 [==============================] - 0s 1ms/step - loss: 0.0451 - accuracy: 0.9980\n",
      "Epoch 93/100\n",
      "25/25 [==============================] - 0s 956us/step - loss: 0.0441 - accuracy: 0.9980\n",
      "Epoch 94/100\n",
      "25/25 [==============================] - 0s 956us/step - loss: 0.0433 - accuracy: 0.9980\n",
      "Epoch 95/100\n",
      "25/25 [==============================] - 0s 873us/step - loss: 0.0424 - accuracy: 0.9980\n",
      "Epoch 96/100\n",
      "25/25 [==============================] - 0s 956us/step - loss: 0.0414 - accuracy: 0.9980\n",
      "Epoch 97/100\n",
      "25/25 [==============================] - 0s 956us/step - loss: 0.0406 - accuracy: 0.9980\n",
      "Epoch 98/100\n",
      "25/25 [==============================] - 0s 914us/step - loss: 0.0397 - accuracy: 0.9980\n",
      "Epoch 99/100\n",
      "25/25 [==============================] - 0s 1ms/step - loss: 0.0389 - accuracy: 0.9980\n",
      "Epoch 100/100\n",
      "25/25 [==============================] - 0s 997us/step - loss: 0.0381 - accuracy: 0.9980\n"
     ]
    }
   ],
   "source": [
    "h = model.fit(x=X,y=Y,verbose = 1, batch_size = 20, epochs = 100, shuffle = 'true')"
   ]
  },
  {
   "cell_type": "code",
   "execution_count": 29,
   "id": "a3ddcf62-e3bb-4205-9d74-2bfb8b7b9bc5",
   "metadata": {},
   "outputs": [
    {
     "data": {
      "text/plain": [
       "Text(0.5, 0, 'epoch')"
      ]
     },
     "execution_count": 29,
     "metadata": {},
     "output_type": "execute_result"
    },
    {
     "data": {
      "image/png": "[encoded data removed]",
      "text/plain": [
       "<Figure size 432x288 with 1 Axes>"
      ]
     },
     "metadata": {
      "needs_background": "light"
     },
     "output_type": "display_data"
    }
   ],
   "source": [
    "plt.plot(h.history['accuracy'])\n",
    "plt.legend(['accuracy'])\n",
    "plt.ylabel('accuracy')\n",
    "plt.xlabel('epoch')"
   ]
  },
  {
   "cell_type": "code",
   "execution_count": 30,
   "id": "f4e594a7-69ca-4f39-a757-e03d70bbf457",
   "metadata": {},
   "outputs": [
    {
     "data": {
      "text/plain": [
       "Text(0.5, 0, 'epoch')"
      ]
     },
     "execution_count": 30,
     "metadata": {},
     "output_type": "execute_result"
    },
    {
     "data": {
      "image/png": "[encoded data removed]",
      "text/plain": [
       "<Figure size 432x288 with 1 Axes>"
      ]
     },
     "metadata": {
      "needs_background": "light"
     },
     "output_type": "display_data"
    }
   ],
   "source": [
    "plt.plot(h.history['loss'])\n",
    "plt.legend(['loss'])\n",
    "plt.title('loss')\n",
    "plt.xlabel('epoch')"
   ]
  },
  {
   "cell_type": "code",
   "execution_count": 36,
   "id": "a3ef3de2-a518-4582-b49a-4f4ee20dc0ce",
   "metadata": {},
   "outputs": [],
   "source": [
    "def plot_decision_boundary(X, y, model):\n",
    "    x_span = np.linspace(min(X[:,0]) - 0.25, max(X[:,0]) + 0.25)\n",
    "    y_span = np.linspace(min(X[:,1]) - 0.25, max(X[:,1]) + 0.25)\n",
    "    xx, yy = np.meshgrid(x_span, y_span)\n",
    "    grid = np.c_[xx.ravel(), yy.ravel()]\n",
    "    pred_func = model.predict(grid)\n",
    "    z = pred_func.reshape(xx.shape)\n",
    "    plt.contourf(xx, yy, z)"
   ]
  },
  {
   "cell_type": "code",
   "execution_count": 35,
   "id": "9f818ec7-66bb-49f6-b1bd-ce608e8de601",
   "metadata": {},
   "outputs": [
    {
     "name": "stdout",
     "output_type": "stream",
     "text": [
      "Prediction is:  [[0.98495805]]\n"
     ]
    },
    {
     "data": {
      "image/png": "[encoded data removed]",
      "text/plain": [
       "<Figure size 432x288 with 1 Axes>"
      ]
     },
     "metadata": {
      "needs_background": "light"
     },
     "output_type": "display_data"
    }
   ],
   "source": [
    "plot_decision_boundary(X, y, model)\n",
    "plt.scatter(X[y==0, 0], X[y==0, 1])\n",
    "plt.scatter(X[y==1, 0], X[y==1, 1])\n",
    "#checking whether the model is working correctly or not\n",
    "x = 0\n",
    "y = 0\n",
    "\n",
    "point = np.array([[x, y]])\n",
    "predict = model.predict(point)\n",
    "plt.plot([x], [y], marker='o', markersize=10, color=\"red\")\n",
    "print(\"Prediction is: \", predict)"
   ]
  },
  {
   "cell_type": "code",
   "execution_count": null,
   "id": "985550cd-f3bf-4d32-8527-ebe8ff23eb24",
   "metadata": {},
   "outputs": [],
   "source": []
  },
  {
   "cell_type": "code",
   "execution_count": null,
   "id": "34c26bcd-8257-4d52-8c2b-0ca33d064daa",
   "metadata": {},
   "outputs": [],
   "source": []
  }
 ],
 "metadata": {
  "kernelspec": {
   "display_name": "Python 3 (ipykernel)",
   "language": "python",
   "name": "python3"
  },
  "language_info": {
   "codemirror_mode": {
    "name": "ipython",
    "version": 3
   },
   "file_extension": ".py",
   "mimetype": "text/x-python",
   "name": "python",
   "nbconvert_exporter": "python",
   "pygments_lexer": "ipython3",
   "version": "3.9.7"
  }
 },
 "nbformat": 4,
 "nbformat_minor": 5
}
